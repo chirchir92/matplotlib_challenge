{
 "cells": [
  {
   "cell_type": "code",
   "execution_count": null,
   "id": "177ede19",
   "metadata": {},
   "outputs": [],
   "source": []
  },
  {
   "cell_type": "markdown",
   "id": "146047d2",
   "metadata": {},
   "source": [
    "# Analysis\n",
    "## bar chart \n",
    "### the clinical reasearch using Capomilin and Ramicane drug regime use more mice to conduct its experiments, as their bar charts show a usage of > 200 mice per research experiment\n",
    "## pie chart\n",
    "### while isolating the sexes of the mice in the study, the analysis uncovered that there are more male mice used relative to female mice. In addittion, a visiual inspection using pie chart shows the sexes used are almost equal. The chart also shows a 1.4% difference\n",
    "## \n"
   ]
  },
  {
   "cell_type": "code",
   "execution_count": 43,
   "id": "a57df4f0",
   "metadata": {},
   "outputs": [],
   "source": [
    "%matplotlib notebook\n",
    "#%matplotlib inline"
   ]
  },
  {
   "cell_type": "code",
   "execution_count": 44,
   "id": "40747b14",
   "metadata": {},
   "outputs": [],
   "source": [
    "# import dependencies\n",
    "import pandas as pd\n",
    "import sklearn.datasets as dta\n",
    "from scipy import stats\n",
    "import scipy.stats as st\n",
    "import matplotlib.pyplot as plt\n",
    "import numpy as np"
   ]
  },
  {
   "cell_type": "code",
   "execution_count": 45,
   "id": "f15594cf",
   "metadata": {},
   "outputs": [
    {
     "data": {
      "text/plain": [
       "Mouse ID  Drug Regimen  Sex     Age_months  Weight (g)  Timepoint  Tumor Volume (mm3)  Metastatic Sites\n",
       "a203      Infubinol     Female  20          23          0          45.000000           0                   1\n",
       "q597      Ramicane      Male    20          25          40         44.471821           2                   1\n",
       "q633      Zoniferol     Male    12          25          10         49.001866           0                   1\n",
       "                                                        5          47.183802           0                   1\n",
       "                                                        0          45.000000           0                   1\n",
       "                                                                                                          ..\n",
       "i334      Ramicane      Female  8           20          5          41.020518           0                   1\n",
       "                                                        0          45.000000           0                   1\n",
       "i177      Ramicane      Male    10          18          45         33.562402           3                   1\n",
       "                                                        40         35.557933           2                   1\n",
       "z969      Naftisol      Male    9           30          45         73.867845           4                   1\n",
       "Length: 1888, dtype: int64"
      ]
     },
     "execution_count": 45,
     "metadata": {},
     "output_type": "execute_result"
    }
   ],
   "source": [
    "# Import the WHO dataset, drop missing data\n",
    "meta_data = pd.read_csv('/Users/russ/Downloads/Mouse_metadata.csv')\n",
    "study_data = pd.read_csv('/Users/russ/Downloads/Study_results.csv')\n",
    "\n",
    "# merge the two dataframes\n",
    "cancer_data_df = pd.merge(meta_data, study_data, on = 'Mouse ID', how = 'left')\n",
    "cancer_data_df\n",
    "\n",
    "# data cleansing\n",
    "# drop all the missing data if there is any\n",
    "cancer_data_df.dropna()\n",
    "\n",
    "# check the dataframe details i.e column counts and dtype among others\n",
    "cancer_data_df.value_counts()\n",
    "\n",
    "# drop all duplicate data with same timpoint and mouse ID\n",
    "cancer_data=cancer_data_df.drop_duplicates(subset=['Timepoint','Mouse ID'])\n",
    "\n",
    "# check the residual data in this case 4 rows of duplicates were removed \n",
    "# cleaned data is vital in getting accurate insights \n",
    "cancer_data.value_counts()"
   ]
  },
  {
   "cell_type": "code",
   "execution_count": 46,
   "id": "b427905b",
   "metadata": {},
   "outputs": [
    {
     "data": {
      "text/html": [
       "<div>\n",
       "<style scoped>\n",
       "    .dataframe tbody tr th:only-of-type {\n",
       "        vertical-align: middle;\n",
       "    }\n",
       "\n",
       "    .dataframe tbody tr th {\n",
       "        vertical-align: top;\n",
       "    }\n",
       "\n",
       "    .dataframe thead th {\n",
       "        text-align: right;\n",
       "    }\n",
       "</style>\n",
       "<table border=\"1\" class=\"dataframe\">\n",
       "  <thead>\n",
       "    <tr style=\"text-align: right;\">\n",
       "      <th></th>\n",
       "      <th>mean</th>\n",
       "      <th>median</th>\n",
       "      <th>var</th>\n",
       "      <th>std</th>\n",
       "      <th>sem</th>\n",
       "    </tr>\n",
       "    <tr>\n",
       "      <th>Drug Regimen</th>\n",
       "      <th></th>\n",
       "      <th></th>\n",
       "      <th></th>\n",
       "      <th></th>\n",
       "      <th></th>\n",
       "    </tr>\n",
       "  </thead>\n",
       "  <tbody>\n",
       "    <tr>\n",
       "      <th>Capomulin</th>\n",
       "      <td>40.675741</td>\n",
       "      <td>41.557809</td>\n",
       "      <td>24.947764</td>\n",
       "      <td>4.994774</td>\n",
       "      <td>0.329346</td>\n",
       "    </tr>\n",
       "    <tr>\n",
       "      <th>Ceftamin</th>\n",
       "      <td>52.591172</td>\n",
       "      <td>51.776157</td>\n",
       "      <td>39.290177</td>\n",
       "      <td>6.268188</td>\n",
       "      <td>0.469821</td>\n",
       "    </tr>\n",
       "    <tr>\n",
       "      <th>Infubinol</th>\n",
       "      <td>52.884795</td>\n",
       "      <td>51.820584</td>\n",
       "      <td>43.128684</td>\n",
       "      <td>6.567243</td>\n",
       "      <td>0.492236</td>\n",
       "    </tr>\n",
       "    <tr>\n",
       "      <th>Ketapril</th>\n",
       "      <td>55.235638</td>\n",
       "      <td>53.698743</td>\n",
       "      <td>68.553577</td>\n",
       "      <td>8.279709</td>\n",
       "      <td>0.603860</td>\n",
       "    </tr>\n",
       "    <tr>\n",
       "      <th>Naftisol</th>\n",
       "      <td>54.331565</td>\n",
       "      <td>52.509285</td>\n",
       "      <td>66.173479</td>\n",
       "      <td>8.134708</td>\n",
       "      <td>0.596466</td>\n",
       "    </tr>\n",
       "    <tr>\n",
       "      <th>Placebo</th>\n",
       "      <td>54.033581</td>\n",
       "      <td>52.288934</td>\n",
       "      <td>61.168083</td>\n",
       "      <td>7.821003</td>\n",
       "      <td>0.581331</td>\n",
       "    </tr>\n",
       "    <tr>\n",
       "      <th>Propriva</th>\n",
       "      <td>52.393463</td>\n",
       "      <td>50.909965</td>\n",
       "      <td>43.138803</td>\n",
       "      <td>6.568014</td>\n",
       "      <td>0.525862</td>\n",
       "    </tr>\n",
       "    <tr>\n",
       "      <th>Ramicane</th>\n",
       "      <td>40.216745</td>\n",
       "      <td>40.673236</td>\n",
       "      <td>23.486704</td>\n",
       "      <td>4.846308</td>\n",
       "      <td>0.320955</td>\n",
       "    </tr>\n",
       "    <tr>\n",
       "      <th>Stelasyn</th>\n",
       "      <td>54.233149</td>\n",
       "      <td>52.431737</td>\n",
       "      <td>59.450562</td>\n",
       "      <td>7.710419</td>\n",
       "      <td>0.573111</td>\n",
       "    </tr>\n",
       "    <tr>\n",
       "      <th>Zoniferol</th>\n",
       "      <td>53.236507</td>\n",
       "      <td>51.818479</td>\n",
       "      <td>48.533355</td>\n",
       "      <td>6.966589</td>\n",
       "      <td>0.516398</td>\n",
       "    </tr>\n",
       "  </tbody>\n",
       "</table>\n",
       "</div>"
      ],
      "text/plain": [
       "                   mean     median        var       std       sem\n",
       "Drug Regimen                                                     \n",
       "Capomulin     40.675741  41.557809  24.947764  4.994774  0.329346\n",
       "Ceftamin      52.591172  51.776157  39.290177  6.268188  0.469821\n",
       "Infubinol     52.884795  51.820584  43.128684  6.567243  0.492236\n",
       "Ketapril      55.235638  53.698743  68.553577  8.279709  0.603860\n",
       "Naftisol      54.331565  52.509285  66.173479  8.134708  0.596466\n",
       "Placebo       54.033581  52.288934  61.168083  7.821003  0.581331\n",
       "Propriva      52.393463  50.909965  43.138803  6.568014  0.525862\n",
       "Ramicane      40.216745  40.673236  23.486704  4.846308  0.320955\n",
       "Stelasyn      54.233149  52.431737  59.450562  7.710419  0.573111\n",
       "Zoniferol     53.236507  51.818479  48.533355  6.966589  0.516398"
      ]
     },
     "execution_count": 46,
     "metadata": {},
     "output_type": "execute_result"
    }
   ],
   "source": [
    "# calculate summary statistics mean, median, variance, standard deviation and SEM\n",
    "# use aggregate function to create a summary stat table\n",
    "# sourced from https://pandas.pydata.org/docs/reference/api/pandas.DataFrame.agg.html\n",
    "# group the data by drug regimen \n",
    "regimen1_data = cancer_data.groupby('Drug Regimen')\n",
    "regimen_data = regimen1_data.aggregate(['mean','median','var','std','sem'])[\"Tumor Volume (mm3)\"]\n",
    "regimen_data"
   ]
  },
  {
   "cell_type": "code",
   "execution_count": 47,
   "id": "db691ca0",
   "metadata": {},
   "outputs": [
    {
     "data": {
      "text/html": [
       "<div>\n",
       "<style scoped>\n",
       "    .dataframe tbody tr th:only-of-type {\n",
       "        vertical-align: middle;\n",
       "    }\n",
       "\n",
       "    .dataframe tbody tr th {\n",
       "        vertical-align: top;\n",
       "    }\n",
       "\n",
       "    .dataframe thead th {\n",
       "        text-align: right;\n",
       "    }\n",
       "</style>\n",
       "<table border=\"1\" class=\"dataframe\">\n",
       "  <thead>\n",
       "    <tr style=\"text-align: right;\">\n",
       "      <th></th>\n",
       "      <th>Tumor Volume (mm3)</th>\n",
       "    </tr>\n",
       "    <tr>\n",
       "      <th>Drug Regimen</th>\n",
       "      <th></th>\n",
       "    </tr>\n",
       "  </thead>\n",
       "  <tbody>\n",
       "    <tr>\n",
       "      <th>Capomulin</th>\n",
       "      <td>230</td>\n",
       "    </tr>\n",
       "    <tr>\n",
       "      <th>Ceftamin</th>\n",
       "      <td>178</td>\n",
       "    </tr>\n",
       "    <tr>\n",
       "      <th>Infubinol</th>\n",
       "      <td>178</td>\n",
       "    </tr>\n",
       "    <tr>\n",
       "      <th>Ketapril</th>\n",
       "      <td>188</td>\n",
       "    </tr>\n",
       "    <tr>\n",
       "      <th>Naftisol</th>\n",
       "      <td>186</td>\n",
       "    </tr>\n",
       "    <tr>\n",
       "      <th>Placebo</th>\n",
       "      <td>181</td>\n",
       "    </tr>\n",
       "    <tr>\n",
       "      <th>Propriva</th>\n",
       "      <td>156</td>\n",
       "    </tr>\n",
       "    <tr>\n",
       "      <th>Ramicane</th>\n",
       "      <td>228</td>\n",
       "    </tr>\n",
       "    <tr>\n",
       "      <th>Stelasyn</th>\n",
       "      <td>181</td>\n",
       "    </tr>\n",
       "    <tr>\n",
       "      <th>Zoniferol</th>\n",
       "      <td>182</td>\n",
       "    </tr>\n",
       "  </tbody>\n",
       "</table>\n",
       "</div>"
      ],
      "text/plain": [
       "              Tumor Volume (mm3)\n",
       "Drug Regimen                    \n",
       "Capomulin                    230\n",
       "Ceftamin                     178\n",
       "Infubinol                    178\n",
       "Ketapril                     188\n",
       "Naftisol                     186\n",
       "Placebo                      181\n",
       "Propriva                     156\n",
       "Ramicane                     228\n",
       "Stelasyn                     181\n",
       "Zoniferol                    182"
      ]
     },
     "execution_count": 47,
     "metadata": {},
     "output_type": "execute_result"
    }
   ],
   "source": [
    "# as grouped earlier, add count for ease of plotting\n",
    "# set the grouped series to a dataframe to use plot function\n",
    "regimen1_data = cancer_data.groupby('Drug Regimen').count()['Tumor Volume (mm3)']\n",
    "reg = pd.DataFrame(regimen1_data)\n",
    "reg"
   ]
  },
  {
   "cell_type": "code",
   "execution_count": 48,
   "id": "10d29a13",
   "metadata": {},
   "outputs": [
    {
     "data": {
      "text/plain": [
       "Text(0, 0.5, 'count of mise used in (hundreds)')"
      ]
     },
     "execution_count": 48,
     "metadata": {},
     "output_type": "execute_result"
    },
    {
     "data": {
      "image/png": "[encoded data removed]",
      "text/plain": [
       "<Figure size 432x288 with 1 Axes>"
      ]
     },
     "metadata": {
      "needs_background": "light"
     },
     "output_type": "display_data"
    }
   ],
   "source": [
    "# plot the dataframe using the plot function\n",
    "reg.plot.bar(legend=False,rot=45,color= 'y',align= 'center')\n",
    "plt.title('Number of total mice for each treatment regimen')\n",
    "plt.xlabel('Drug Regimen')\n",
    "plt.ylabel(\"count of mise used in (hundreds)\")"
   ]
  },
  {
   "cell_type": "code",
   "execution_count": 49,
   "id": "ef3fc94f",
   "metadata": {},
   "outputs": [
    {
     "data": {
      "image/png": "[encoded data removed]",
      "text/plain": [
       "<Figure size 720x360 with 1 Axes>"
      ]
     },
     "metadata": {
      "needs_background": "light"
     },
     "output_type": "display_data"
    }
   ],
   "source": [
    "# Set x axis and tick locations\n",
    "x_axis = np.arange(len(reg))\n",
    "\n",
    "tick_locations = [item for item in x_axis]\n",
    "\n",
    "# Create a list indicating where to write x labels and set figure size to adjust for space\n",
    "plt.figure(figsize=(10,5))\n",
    "plt.bar(x_axis, reg['Tumor Volume (mm3)'], color='y', alpha=0.8)\n",
    "plt.xticks(tick_locations, rotation=\"45\")\n",
    "plt.tight_layout()\n",
    "\n",
    "# Set x and y limits\n",
    "plt.xlim(-.5, len(x_axis)-.05)\n",
    "plt.ylim(0, 250)\n",
    "\n",
    "# Set a Title and labels\n",
    "plt.title('Number of total mice for each treatment regimen')\n",
    "plt.xlabel('Drug Regimen')\n",
    "plt.ylabel('count of mise used in (hundreds)')\n",
    "\n",
    "# Save our graph and show the grap\n",
    "plt.tight_layout()\n",
    "plt.savefig(\"/Users/russ/Desktop/matplotlib_challenge\")\n",
    "plt.show()"
   ]
  },
  {
   "cell_type": "code",
   "execution_count": 50,
   "id": "40532f82",
   "metadata": {},
   "outputs": [
    {
     "data": {
      "text/html": [
       "<div>\n",
       "<style scoped>\n",
       "    .dataframe tbody tr th:only-of-type {\n",
       "        vertical-align: middle;\n",
       "    }\n",
       "\n",
       "    .dataframe tbody tr th {\n",
       "        vertical-align: top;\n",
       "    }\n",
       "\n",
       "    .dataframe thead th {\n",
       "        text-align: right;\n",
       "    }\n",
       "</style>\n",
       "<table border=\"1\" class=\"dataframe\">\n",
       "  <thead>\n",
       "    <tr style=\"text-align: right;\">\n",
       "      <th></th>\n",
       "      <th>Mouse ID</th>\n",
       "      <th>Drug Regimen</th>\n",
       "      <th>Age_months</th>\n",
       "      <th>Weight (g)</th>\n",
       "      <th>Timepoint</th>\n",
       "      <th>Tumor Volume (mm3)</th>\n",
       "      <th>Metastatic Sites</th>\n",
       "    </tr>\n",
       "    <tr>\n",
       "      <th>Sex</th>\n",
       "      <th></th>\n",
       "      <th></th>\n",
       "      <th></th>\n",
       "      <th></th>\n",
       "      <th></th>\n",
       "      <th></th>\n",
       "      <th></th>\n",
       "    </tr>\n",
       "  </thead>\n",
       "  <tbody>\n",
       "    <tr>\n",
       "      <th>Female</th>\n",
       "      <td>930</td>\n",
       "      <td>930</td>\n",
       "      <td>930</td>\n",
       "      <td>930</td>\n",
       "      <td>930</td>\n",
       "      <td>930</td>\n",
       "      <td>930</td>\n",
       "    </tr>\n",
       "    <tr>\n",
       "      <th>Male</th>\n",
       "      <td>958</td>\n",
       "      <td>958</td>\n",
       "      <td>958</td>\n",
       "      <td>958</td>\n",
       "      <td>958</td>\n",
       "      <td>958</td>\n",
       "      <td>958</td>\n",
       "    </tr>\n",
       "  </tbody>\n",
       "</table>\n",
       "</div>"
      ],
      "text/plain": [
       "        Mouse ID  Drug Regimen  Age_months  Weight (g)  Timepoint  \\\n",
       "Sex                                                                 \n",
       "Female       930           930         930         930        930   \n",
       "Male         958           958         958         958        958   \n",
       "\n",
       "        Tumor Volume (mm3)  Metastatic Sites  \n",
       "Sex                                           \n",
       "Female                 930               930  \n",
       "Male                   958               958  "
      ]
     },
     "execution_count": 50,
     "metadata": {},
     "output_type": "execute_result"
    }
   ],
   "source": [
    "sex = cancer_data.groupby('Sex').count()\n",
    "sex"
   ]
  },
  {
   "cell_type": "code",
   "execution_count": 51,
   "id": "af64350a",
   "metadata": {},
   "outputs": [
    {
     "data": {
      "text/plain": [
       "['Female', 'Male']"
      ]
     },
     "execution_count": 51,
     "metadata": {},
     "output_type": "execute_result"
    }
   ],
   "source": [
    "labels = list(sex.index)\n",
    "labels"
   ]
  },
  {
   "cell_type": "code",
   "execution_count": 52,
   "id": "ebf09961",
   "metadata": {},
   "outputs": [
    {
     "data": {
      "text/plain": [
       "Sex\n",
       "Female    930\n",
       "Male      958\n",
       "Name: Mouse ID, dtype: int64"
      ]
     },
     "execution_count": 52,
     "metadata": {},
     "output_type": "execute_result"
    }
   ],
   "source": [
    "sizes = sex['Mouse ID']\n",
    "sizes"
   ]
  },
  {
   "cell_type": "code",
   "execution_count": 53,
   "id": "579b26f2",
   "metadata": {},
   "outputs": [
    {
     "data": {
      "text/plain": [
       "([<matplotlib.patches.Wedge at 0x7feddffa8c90>,\n",
       "  <matplotlib.patches.Wedge at 0x7feddffb58d0>],\n",
       " [Text(-0.7265028750894216, -0.8259501029038041, 'Female'),\n",
       "  Text(0.726502952420448, 0.8259500348836922, 'Male')],\n",
       " [Text(-0.39627429550332083, -0.45051823794752943, '49.3%'),\n",
       "  Text(0.3962743376838807, 0.4505182008456502, '50.7%')])"
      ]
     },
     "execution_count": 53,
     "metadata": {},
     "output_type": "execute_result"
    },
    {
     "data": {
      "image/png": "[encoded data removed]",
      "text/plain": [
       "<Figure size 432x288 with 1 Axes>"
      ]
     },
     "metadata": {},
     "output_type": "display_data"
    }
   ],
   "source": [
    "# labels for the sections of pie chart\n",
    "labels = list(sex.index)\n",
    "# values for each section of the pie chart\n",
    "sizes = sex['Mouse ID']\n",
    "# color of the pie chart section\n",
    "colors = ['grey','cyan']\n",
    "\n",
    "# plot the pie chart\n",
    "plt.pie(sizes, labels=labels,colors=colors,autopct=\"%1.1f%%\", shadow=True, startangle=140)"
   ]
  },
  {
   "cell_type": "code",
   "execution_count": 54,
   "id": "4ab6c30e",
   "metadata": {},
   "outputs": [
    {
     "data": {
      "text/plain": [
       "<AxesSubplot:ylabel='Mouse ID'>"
      ]
     },
     "execution_count": 54,
     "metadata": {},
     "output_type": "execute_result"
    },
    {
     "data": {
      "image/png": "[encoded data removed]",
      "text/plain": [
       "<Figure size 360x360 with 1 Axes>"
      ]
     },
     "metadata": {},
     "output_type": "display_data"
    }
   ],
   "source": [
    "colors = ['grey','cyan']\n",
    "sexpie = sex['Mouse ID'].plot.pie(y='sizes', figsize=(5, 5), colors=colors, autopct=\"%1.1f%%\",startangle=140)\n",
    "sexpie"
   ]
  },
  {
   "cell_type": "code",
   "execution_count": 55,
   "id": "ceb71bd6",
   "metadata": {},
   "outputs": [
    {
     "data": {
      "text/html": [
       "<div>\n",
       "<style scoped>\n",
       "    .dataframe tbody tr th:only-of-type {\n",
       "        vertical-align: middle;\n",
       "    }\n",
       "\n",
       "    .dataframe tbody tr th {\n",
       "        vertical-align: top;\n",
       "    }\n",
       "\n",
       "    .dataframe thead th {\n",
       "        text-align: right;\n",
       "    }\n",
       "</style>\n",
       "<table border=\"1\" class=\"dataframe\">\n",
       "  <thead>\n",
       "    <tr style=\"text-align: right;\">\n",
       "      <th></th>\n",
       "      <th>Timepoint</th>\n",
       "      <th>Mouse ID</th>\n",
       "      <th>Drug Regimen</th>\n",
       "      <th>Sex</th>\n",
       "      <th>Age_months</th>\n",
       "      <th>Weight (g)</th>\n",
       "      <th>Tumor Volume (mm3)</th>\n",
       "      <th>Metastatic Sites</th>\n",
       "    </tr>\n",
       "  </thead>\n",
       "  <tbody>\n",
       "    <tr>\n",
       "      <th>0</th>\n",
       "      <td>45</td>\n",
       "      <td>k403</td>\n",
       "      <td>Ramicane</td>\n",
       "      <td>Male</td>\n",
       "      <td>21</td>\n",
       "      <td>16</td>\n",
       "      <td>22.050126</td>\n",
       "      <td>1</td>\n",
       "    </tr>\n",
       "    <tr>\n",
       "      <th>1</th>\n",
       "      <td>45</td>\n",
       "      <td>s185</td>\n",
       "      <td>Capomulin</td>\n",
       "      <td>Female</td>\n",
       "      <td>3</td>\n",
       "      <td>17</td>\n",
       "      <td>23.343598</td>\n",
       "      <td>1</td>\n",
       "    </tr>\n",
       "    <tr>\n",
       "      <th>2</th>\n",
       "      <td>45</td>\n",
       "      <td>x401</td>\n",
       "      <td>Capomulin</td>\n",
       "      <td>Female</td>\n",
       "      <td>16</td>\n",
       "      <td>15</td>\n",
       "      <td>28.484033</td>\n",
       "      <td>0</td>\n",
       "    </tr>\n",
       "    <tr>\n",
       "      <th>3</th>\n",
       "      <td>45</td>\n",
       "      <td>m601</td>\n",
       "      <td>Capomulin</td>\n",
       "      <td>Male</td>\n",
       "      <td>22</td>\n",
       "      <td>17</td>\n",
       "      <td>28.430964</td>\n",
       "      <td>1</td>\n",
       "    </tr>\n",
       "    <tr>\n",
       "      <th>4</th>\n",
       "      <td>45</td>\n",
       "      <td>g791</td>\n",
       "      <td>Ramicane</td>\n",
       "      <td>Male</td>\n",
       "      <td>11</td>\n",
       "      <td>16</td>\n",
       "      <td>29.128472</td>\n",
       "      <td>1</td>\n",
       "    </tr>\n",
       "  </tbody>\n",
       "</table>\n",
       "</div>"
      ],
      "text/plain": [
       "   Timepoint Mouse ID Drug Regimen     Sex  Age_months  Weight (g)  \\\n",
       "0         45     k403     Ramicane    Male          21          16   \n",
       "1         45     s185    Capomulin  Female           3          17   \n",
       "2         45     x401    Capomulin  Female          16          15   \n",
       "3         45     m601    Capomulin    Male          22          17   \n",
       "4         45     g791     Ramicane    Male          11          16   \n",
       "\n",
       "   Tumor Volume (mm3)  Metastatic Sites  \n",
       "0           22.050126                 1  \n",
       "1           23.343598                 1  \n",
       "2           28.484033                 0  \n",
       "3           28.430964                 1  \n",
       "4           29.128472                 1  "
      ]
     },
     "execution_count": 55,
     "metadata": {},
     "output_type": "execute_result"
    }
   ],
   "source": [
    "# Calculate the final tumor volume of each mouse across four of the treatment regimens:  \n",
    "# Capomulin, Ramicane, Infubinol, and Ceftamin#\n",
    "capomulin = cancer_data.groupby(['Drug Regimen']).get_group(('Capomulin'))\n",
    "\n",
    "# Start by getting the last (greatest) timepoint for each mouse\n",
    "capomulin_df = pd.DataFrame(capomulin.groupby(['Mouse ID']).max()['Timepoint'])\n",
    "\n",
    "# Merge this group df with the original dataframe to get the tumor volume at the last timepoint\n",
    "capomulin_final = pd.merge(capomulin_df, cancer_data, on = 'Timepoint', how = 'inner')\n",
    "capomulin_final.head()"
   ]
  },
  {
   "cell_type": "code",
   "execution_count": 56,
   "id": "6a1d92d5",
   "metadata": {},
   "outputs": [
    {
     "name": "stdout",
     "output_type": "stream",
     "text": [
      "Values below 2.0406202450000066 could be outliers.\n",
      "Values above 107.483021565 could be outliers.\n"
     ]
    }
   ],
   "source": [
    "# Calculate the final tumor volume of each mouse across four of the treatment regimens\n",
    "# create a list for final plotting\n",
    "tumorVol_capomulin = capomulin_final['Tumor Volume (mm3)']\n",
    "\n",
    "# If the data is in a dataframe, we use pandas to give quartile calculations\n",
    "quartiles = tumorVol_capomulin.quantile([.25,.5,.75])\n",
    "lowerq = quartiles[0.25]\n",
    "upperq = quartiles[0.75]\n",
    "iqr = upperq-lowerq\n",
    "\n",
    "#print(f\"The lower quartile of tumor volume  is: {lowerq}\")\n",
    "#print(f\"The upper quartile of tumor volume is: {upperq}\")\n",
    "#print(f\"The interquartile range of tumor volume is: {iqr}\")\n",
    "#print(f\"The the median of tumor volume is: {quartiles[0.5]} \")\n",
    "\n",
    "lower_bound = lowerq - (1.5*iqr)\n",
    "upper_bound = upperq + (1.5*iqr)\n",
    "print(f\"Values below {lower_bound} could be outliers.\")\n",
    "print(f\"Values above {upper_bound} could be outliers.\")"
   ]
  },
  {
   "cell_type": "code",
   "execution_count": 57,
   "id": "d2687a7d",
   "metadata": {},
   "outputs": [
    {
     "data": {
      "text/html": [
       "<div>\n",
       "<style scoped>\n",
       "    .dataframe tbody tr th:only-of-type {\n",
       "        vertical-align: middle;\n",
       "    }\n",
       "\n",
       "    .dataframe tbody tr th {\n",
       "        vertical-align: top;\n",
       "    }\n",
       "\n",
       "    .dataframe thead th {\n",
       "        text-align: right;\n",
       "    }\n",
       "</style>\n",
       "<table border=\"1\" class=\"dataframe\">\n",
       "  <thead>\n",
       "    <tr style=\"text-align: right;\">\n",
       "      <th></th>\n",
       "      <th>Timepoint</th>\n",
       "      <th>Mouse ID</th>\n",
       "      <th>Drug Regimen</th>\n",
       "      <th>Sex</th>\n",
       "      <th>Age_months</th>\n",
       "      <th>Weight (g)</th>\n",
       "      <th>Tumor Volume (mm3)</th>\n",
       "      <th>Metastatic Sites</th>\n",
       "    </tr>\n",
       "  </thead>\n",
       "  <tbody>\n",
       "    <tr>\n",
       "      <th>0</th>\n",
       "      <td>45</td>\n",
       "      <td>k403</td>\n",
       "      <td>Ramicane</td>\n",
       "      <td>Male</td>\n",
       "      <td>21</td>\n",
       "      <td>16</td>\n",
       "      <td>22.050126</td>\n",
       "      <td>1</td>\n",
       "    </tr>\n",
       "    <tr>\n",
       "      <th>1</th>\n",
       "      <td>45</td>\n",
       "      <td>s185</td>\n",
       "      <td>Capomulin</td>\n",
       "      <td>Female</td>\n",
       "      <td>3</td>\n",
       "      <td>17</td>\n",
       "      <td>23.343598</td>\n",
       "      <td>1</td>\n",
       "    </tr>\n",
       "    <tr>\n",
       "      <th>2</th>\n",
       "      <td>45</td>\n",
       "      <td>x401</td>\n",
       "      <td>Capomulin</td>\n",
       "      <td>Female</td>\n",
       "      <td>16</td>\n",
       "      <td>15</td>\n",
       "      <td>28.484033</td>\n",
       "      <td>0</td>\n",
       "    </tr>\n",
       "    <tr>\n",
       "      <th>3</th>\n",
       "      <td>45</td>\n",
       "      <td>m601</td>\n",
       "      <td>Capomulin</td>\n",
       "      <td>Male</td>\n",
       "      <td>22</td>\n",
       "      <td>17</td>\n",
       "      <td>28.430964</td>\n",
       "      <td>1</td>\n",
       "    </tr>\n",
       "    <tr>\n",
       "      <th>4</th>\n",
       "      <td>45</td>\n",
       "      <td>g791</td>\n",
       "      <td>Ramicane</td>\n",
       "      <td>Male</td>\n",
       "      <td>11</td>\n",
       "      <td>16</td>\n",
       "      <td>29.128472</td>\n",
       "      <td>1</td>\n",
       "    </tr>\n",
       "  </tbody>\n",
       "</table>\n",
       "</div>"
      ],
      "text/plain": [
       "   Timepoint Mouse ID Drug Regimen     Sex  Age_months  Weight (g)  \\\n",
       "0         45     k403     Ramicane    Male          21          16   \n",
       "1         45     s185    Capomulin  Female           3          17   \n",
       "2         45     x401    Capomulin  Female          16          15   \n",
       "3         45     m601    Capomulin    Male          22          17   \n",
       "4         45     g791     Ramicane    Male          11          16   \n",
       "\n",
       "   Tumor Volume (mm3)  Metastatic Sites  \n",
       "0           22.050126                 1  \n",
       "1           23.343598                 1  \n",
       "2           28.484033                 0  \n",
       "3           28.430964                 1  \n",
       "4           29.128472                 1  "
      ]
     },
     "execution_count": 57,
     "metadata": {},
     "output_type": "execute_result"
    }
   ],
   "source": [
    "# Calculate the final tumor volume of each mouse across four of the treatment regimens:  \n",
    "# Capomulin, Ramicane, Infubinol, and Ceftamin#\n",
    "ramicane = cancer_data.groupby(['Drug Regimen']).get_group(('Ramicane'))\n",
    "\n",
    "# Start by getting the last (greatest) timepoint for each mouse\n",
    "ramicane_df = pd.DataFrame(ramicane.groupby(['Mouse ID']).max()['Timepoint'])\n",
    "\n",
    "# Merge this group df with the original dataframe to get the tumor volume at the last timepoint\n",
    "ramicane_final = pd.merge(ramicane_df, cancer_data, on = 'Timepoint', how = 'inner')\n",
    "ramicane_final.head()"
   ]
  },
  {
   "cell_type": "code",
   "execution_count": 58,
   "id": "c9e2ae76",
   "metadata": {},
   "outputs": [
    {
     "name": "stdout",
     "output_type": "stream",
     "text": [
      "Values below 2.425448920000008 could be outliers.\n",
      "Values above 106.84164043999999 could be outliers.\n"
     ]
    }
   ],
   "source": [
    "# Calculate the final tumor volume of each mouse across four of the treatment regimens\n",
    "# create a list for final plotting\n",
    "tumorVol_ramicane = ramicane_final['Tumor Volume (mm3)']\n",
    "\n",
    "# If the data is in a dataframe, we use pandas to give quartile calculations\n",
    "quartiles = tumorVol_ramicane.quantile([.25,.5,.75])\n",
    "lowerq = quartiles[0.25]\n",
    "upperq = quartiles[0.75]\n",
    "iqr = upperq-lowerq\n",
    "\n",
    "#print(f\"The lower quartile of tumor volume  is: {lowerq}\")\n",
    "#print(f\"The upper quartile of tumor volume is: {upperq}\")\n",
    "#print(f\"The interquartile range of tumor volume is: {iqr}\")\n",
    "#print(f\"The the median of tumor volume is: {quartiles[0.5]} \")\n",
    "\n",
    "lower_bound = lowerq - (1.5*iqr)\n",
    "upper_bound = upperq + (1.5*iqr)\n",
    "print(f\"Values below {lower_bound} could be outliers.\")\n",
    "print(f\"Values above {upper_bound} could be outliers.\")"
   ]
  },
  {
   "cell_type": "code",
   "execution_count": 59,
   "id": "9beac070",
   "metadata": {},
   "outputs": [
    {
     "data": {
      "text/html": [
       "<div>\n",
       "<style scoped>\n",
       "    .dataframe tbody tr th:only-of-type {\n",
       "        vertical-align: middle;\n",
       "    }\n",
       "\n",
       "    .dataframe tbody tr th {\n",
       "        vertical-align: top;\n",
       "    }\n",
       "\n",
       "    .dataframe thead th {\n",
       "        text-align: right;\n",
       "    }\n",
       "</style>\n",
       "<table border=\"1\" class=\"dataframe\">\n",
       "  <thead>\n",
       "    <tr style=\"text-align: right;\">\n",
       "      <th></th>\n",
       "      <th>Timepoint</th>\n",
       "      <th>Mouse ID</th>\n",
       "      <th>Drug Regimen</th>\n",
       "      <th>Sex</th>\n",
       "      <th>Age_months</th>\n",
       "      <th>Weight (g)</th>\n",
       "      <th>Tumor Volume (mm3)</th>\n",
       "      <th>Metastatic Sites</th>\n",
       "    </tr>\n",
       "  </thead>\n",
       "  <tbody>\n",
       "    <tr>\n",
       "      <th>0</th>\n",
       "      <td>45</td>\n",
       "      <td>k403</td>\n",
       "      <td>Ramicane</td>\n",
       "      <td>Male</td>\n",
       "      <td>21</td>\n",
       "      <td>16</td>\n",
       "      <td>22.050126</td>\n",
       "      <td>1</td>\n",
       "    </tr>\n",
       "    <tr>\n",
       "      <th>1</th>\n",
       "      <td>45</td>\n",
       "      <td>s185</td>\n",
       "      <td>Capomulin</td>\n",
       "      <td>Female</td>\n",
       "      <td>3</td>\n",
       "      <td>17</td>\n",
       "      <td>23.343598</td>\n",
       "      <td>1</td>\n",
       "    </tr>\n",
       "    <tr>\n",
       "      <th>2</th>\n",
       "      <td>45</td>\n",
       "      <td>x401</td>\n",
       "      <td>Capomulin</td>\n",
       "      <td>Female</td>\n",
       "      <td>16</td>\n",
       "      <td>15</td>\n",
       "      <td>28.484033</td>\n",
       "      <td>0</td>\n",
       "    </tr>\n",
       "    <tr>\n",
       "      <th>3</th>\n",
       "      <td>45</td>\n",
       "      <td>m601</td>\n",
       "      <td>Capomulin</td>\n",
       "      <td>Male</td>\n",
       "      <td>22</td>\n",
       "      <td>17</td>\n",
       "      <td>28.430964</td>\n",
       "      <td>1</td>\n",
       "    </tr>\n",
       "    <tr>\n",
       "      <th>4</th>\n",
       "      <td>45</td>\n",
       "      <td>g791</td>\n",
       "      <td>Ramicane</td>\n",
       "      <td>Male</td>\n",
       "      <td>11</td>\n",
       "      <td>16</td>\n",
       "      <td>29.128472</td>\n",
       "      <td>1</td>\n",
       "    </tr>\n",
       "  </tbody>\n",
       "</table>\n",
       "</div>"
      ],
      "text/plain": [
       "   Timepoint Mouse ID Drug Regimen     Sex  Age_months  Weight (g)  \\\n",
       "0         45     k403     Ramicane    Male          21          16   \n",
       "1         45     s185    Capomulin  Female           3          17   \n",
       "2         45     x401    Capomulin  Female          16          15   \n",
       "3         45     m601    Capomulin    Male          22          17   \n",
       "4         45     g791     Ramicane    Male          11          16   \n",
       "\n",
       "   Tumor Volume (mm3)  Metastatic Sites  \n",
       "0           22.050126                 1  \n",
       "1           23.343598                 1  \n",
       "2           28.484033                 0  \n",
       "3           28.430964                 1  \n",
       "4           29.128472                 1  "
      ]
     },
     "execution_count": 59,
     "metadata": {},
     "output_type": "execute_result"
    }
   ],
   "source": [
    "# Calculate the final tumor volume of each mouse across four of the treatment regimens:  \n",
    "# Capomulin, Ramicane, Infubinol, and Ceftamin#\n",
    "infubinol = cancer_data.groupby(['Drug Regimen']).get_group(('Infubinol'))\n",
    "\n",
    "# Start by getting the last (greatest) timepoint for each mouse\n",
    "infubinol_df = pd.DataFrame(infubinol.groupby(['Mouse ID']).max()['Timepoint'])\n",
    "\n",
    "# Merge this group df with the original dataframe to get the tumor volume at the last timepoint\n",
    "infubinol_final = pd.merge(infubinol_df, cancer_data, on = 'Timepoint', how = 'inner')\n",
    "infubinol_final.head()"
   ]
  },
  {
   "cell_type": "code",
   "execution_count": 60,
   "id": "58c93abb",
   "metadata": {},
   "outputs": [
    {
     "name": "stdout",
     "output_type": "stream",
     "text": [
      "Values below 22.356866305000004 could be outliers.\n",
      "Values above 84.490498825 could be outliers.\n"
     ]
    }
   ],
   "source": [
    "# Calculate the final tumor volume of each mouse across four of the treatment regimens\n",
    "# create a list for final plotting\n",
    "tumorVol_infubinol = infubinol_final['Tumor Volume (mm3)']\n",
    "\n",
    "# If the data is in a dataframe, we use pandas to give quartile calculations\n",
    "quartiles = tumorVol_infubinol.quantile([.25,.5,.75])\n",
    "lowerq = quartiles[0.25]\n",
    "upperq = quartiles[0.75]\n",
    "iqr = upperq-lowerq\n",
    "\n",
    "#print(f\"The lower quartile of tumor volume  is: {lowerq}\")\n",
    "#print(f\"The upper quartile of tumor volume is: {upperq}\")\n",
    "#print(f\"The interquartile range of tumor volume is: {iqr}\")\n",
    "#print(f\"The the median of tumor volume is: {quartiles[0.5]} \")\n",
    "\n",
    "lower_bound = lowerq - (1.5*iqr)\n",
    "upper_bound = upperq + (1.5*iqr)\n",
    "print(f\"Values below {lower_bound} could be outliers.\")\n",
    "print(f\"Values above {upper_bound} could be outliers.\")"
   ]
  },
  {
   "cell_type": "code",
   "execution_count": 61,
   "id": "62900c0a",
   "metadata": {},
   "outputs": [
    {
     "data": {
      "text/html": [
       "<div>\n",
       "<style scoped>\n",
       "    .dataframe tbody tr th:only-of-type {\n",
       "        vertical-align: middle;\n",
       "    }\n",
       "\n",
       "    .dataframe tbody tr th {\n",
       "        vertical-align: top;\n",
       "    }\n",
       "\n",
       "    .dataframe thead th {\n",
       "        text-align: right;\n",
       "    }\n",
       "</style>\n",
       "<table border=\"1\" class=\"dataframe\">\n",
       "  <thead>\n",
       "    <tr style=\"text-align: right;\">\n",
       "      <th></th>\n",
       "      <th>Timepoint</th>\n",
       "      <th>Mouse ID</th>\n",
       "      <th>Drug Regimen</th>\n",
       "      <th>Sex</th>\n",
       "      <th>Age_months</th>\n",
       "      <th>Weight (g)</th>\n",
       "      <th>Tumor Volume (mm3)</th>\n",
       "      <th>Metastatic Sites</th>\n",
       "    </tr>\n",
       "  </thead>\n",
       "  <tbody>\n",
       "    <tr>\n",
       "      <th>0</th>\n",
       "      <td>45</td>\n",
       "      <td>k403</td>\n",
       "      <td>Ramicane</td>\n",
       "      <td>Male</td>\n",
       "      <td>21</td>\n",
       "      <td>16</td>\n",
       "      <td>22.050126</td>\n",
       "      <td>1</td>\n",
       "    </tr>\n",
       "    <tr>\n",
       "      <th>1</th>\n",
       "      <td>45</td>\n",
       "      <td>s185</td>\n",
       "      <td>Capomulin</td>\n",
       "      <td>Female</td>\n",
       "      <td>3</td>\n",
       "      <td>17</td>\n",
       "      <td>23.343598</td>\n",
       "      <td>1</td>\n",
       "    </tr>\n",
       "    <tr>\n",
       "      <th>2</th>\n",
       "      <td>45</td>\n",
       "      <td>x401</td>\n",
       "      <td>Capomulin</td>\n",
       "      <td>Female</td>\n",
       "      <td>16</td>\n",
       "      <td>15</td>\n",
       "      <td>28.484033</td>\n",
       "      <td>0</td>\n",
       "    </tr>\n",
       "    <tr>\n",
       "      <th>3</th>\n",
       "      <td>45</td>\n",
       "      <td>m601</td>\n",
       "      <td>Capomulin</td>\n",
       "      <td>Male</td>\n",
       "      <td>22</td>\n",
       "      <td>17</td>\n",
       "      <td>28.430964</td>\n",
       "      <td>1</td>\n",
       "    </tr>\n",
       "    <tr>\n",
       "      <th>4</th>\n",
       "      <td>45</td>\n",
       "      <td>g791</td>\n",
       "      <td>Ramicane</td>\n",
       "      <td>Male</td>\n",
       "      <td>11</td>\n",
       "      <td>16</td>\n",
       "      <td>29.128472</td>\n",
       "      <td>1</td>\n",
       "    </tr>\n",
       "  </tbody>\n",
       "</table>\n",
       "</div>"
      ],
      "text/plain": [
       "   Timepoint Mouse ID Drug Regimen     Sex  Age_months  Weight (g)  \\\n",
       "0         45     k403     Ramicane    Male          21          16   \n",
       "1         45     s185    Capomulin  Female           3          17   \n",
       "2         45     x401    Capomulin  Female          16          15   \n",
       "3         45     m601    Capomulin    Male          22          17   \n",
       "4         45     g791     Ramicane    Male          11          16   \n",
       "\n",
       "   Tumor Volume (mm3)  Metastatic Sites  \n",
       "0           22.050126                 1  \n",
       "1           23.343598                 1  \n",
       "2           28.484033                 0  \n",
       "3           28.430964                 1  \n",
       "4           29.128472                 1  "
      ]
     },
     "execution_count": 61,
     "metadata": {},
     "output_type": "execute_result"
    }
   ],
   "source": [
    "# Calculate the final tumor volume of each mouse across four of the treatment regimens:  \n",
    "# Capomulin, Ramicane, Infubinol, and Ceftamin#\n",
    "ceftamin = cancer_data.groupby(['Drug Regimen']).get_group(('Ceftamin'))\n",
    "\n",
    "# Start by getting the last (greatest) timepoint for each mouse\n",
    "ceftamin_df = pd.DataFrame(ceftamin.groupby(['Mouse ID']).max()['Timepoint'])\n",
    "\n",
    "# Merge this group df with the original dataframe to get the tumor volume at the last timepoint\n",
    "ceftamin_final = pd.merge(ceftamin_df, cancer_data, on = 'Timepoint', how = 'inner')\n",
    "ceftamin_final.head()"
   ]
  },
  {
   "cell_type": "code",
   "execution_count": 62,
   "id": "2ad11822",
   "metadata": {},
   "outputs": [
    {
     "name": "stdout",
     "output_type": "stream",
     "text": [
      "Values below 18.49386144 could be outliers.\n",
      "Values above 89.1768976 could be outliers.\n"
     ]
    }
   ],
   "source": [
    "# Calculate the final tumor volume of each mouse across four of the treatment regimens\n",
    "# create a list for final plotting\n",
    "tumorVol_ceftamin = ceftamin_final['Tumor Volume (mm3)']\n",
    "\n",
    "# If the data is in a dataframe, we use pandas to give quartile calculations\n",
    "quartiles = tumorVol_ceftamin.quantile([.25,.5,.75])\n",
    "lowerq = quartiles[0.25]\n",
    "upperq = quartiles[0.75]\n",
    "iqr = upperq-lowerq\n",
    "\n",
    "#print(f\"The lower quartile of tumor volume  is: {lowerq}\")\n",
    "#print(f\"The upper quartile of tumor volume is: {upperq}\")\n",
    "#print(f\"The interquartile range of tumor volume is: {iqr}\")\n",
    "#print(f\"The the median of tumor volume is: {quartiles[0.5]} \")\n",
    "\n",
    "lower_bound = lowerq - (1.5*iqr)\n",
    "upper_bound = upperq + (1.5*iqr)\n",
    "print(f\"Values below {lower_bound} could be outliers.\")\n",
    "print(f\"Values above {upper_bound} could be outliers.\")"
   ]
  },
  {
   "cell_type": "code",
   "execution_count": 63,
   "id": "016a5bf7",
   "metadata": {},
   "outputs": [
    {
     "data": {
      "image/png": "[encoded data removed]",
      "text/plain": [
       "<Figure size 432x288 with 1 Axes>"
      ]
     },
     "metadata": {
      "needs_background": "light"
     },
     "output_type": "display_data"
    }
   ],
   "source": [
    "# create final list for plotting\n",
    "box_list = [tumorVol_capomulin,tumorVol_ceftamin,tumorVol_infubinol,tumorVol_ramicane]\n",
    "\n",
    "fig1, ax1 = plt.subplots()\n",
    "ax1.set_title('Tumor volume per treatment regimen')\n",
    "ax1.set_ylabel('Tumor volume(mm3)')\n",
    "ax1.set_xlabel('Drug regimen')\n",
    "ax1.boxplot(box_list, labels=['Capomulin','Ceftamin','Infubinol','Ramicane'])\n",
    "plt.show()"
   ]
  },
  {
   "cell_type": "code",
   "execution_count": 64,
   "id": "aa36a397",
   "metadata": {},
   "outputs": [
    {
     "name": "stderr",
     "output_type": "stream",
     "text": [
      "No artists with labels found to put in legend.  Note that artists whose label start with an underscore are ignored when legend() is called with no argument.\n"
     ]
    },
    {
     "data": {
      "text/plain": [
       "<matplotlib.legend.Legend at 0x7fede05eacd0>"
      ]
     },
     "execution_count": 64,
     "metadata": {},
     "output_type": "execute_result"
    },
    {
     "data": {
      "image/png": "[encoded data removed]",
      "text/plain": [
       "<Figure size 432x288 with 1 Axes>"
      ]
     },
     "metadata": {
      "needs_background": "light"
     },
     "output_type": "display_data"
    }
   ],
   "source": [
    "capomulin_mouse = pd.DataFrame(cancer_data.groupby(['Mouse ID']).get_group(('k403')))\n",
    "x_axis = capomulin_mouse['Timepoint']\n",
    "y = capomulin_mouse['Tumor Volume (mm3)']\n",
    "\n",
    "plt.title('Mouse ID (k403)')\n",
    "plt.xlabel('Timepoint')\n",
    "plt.ylabel('Tumor volume(mm3)')\n",
    "\n",
    "plt.plot(x_axis, y, color =\"r\")\n",
    "plt.legend(loc='best')\n"
   ]
  },
  {
   "cell_type": "code",
   "execution_count": 65,
   "id": "b56ad427",
   "metadata": {},
   "outputs": [
    {
     "data": {
      "text/plain": [
       "Text(0.5, 1.0, 'Avg tumor vol(mmm3) vs mouse weight (g)')"
      ]
     },
     "execution_count": 65,
     "metadata": {},
     "output_type": "execute_result"
    },
    {
     "data": {
      "image/png": "[encoded data removed]",
      "text/plain": [
       "<Figure size 432x288 with 1 Axes>"
      ]
     },
     "metadata": {
      "needs_background": "light"
     },
     "output_type": "display_data"
    }
   ],
   "source": [
    "# recall the capomulin data \n",
    "capomulin = cancer_data.groupby(['Drug Regimen']).get_group(('Capomulin'))\n",
    "capomulin\n",
    "\n",
    "# calculate average of the tumor volume and index the df by Mouse ID\n",
    "# best to note that .mean() on a grouped dataframe averages all the numeric columns \n",
    "capomulin_avg = capomulin.groupby(['Mouse ID']).mean()\n",
    "capomulin_avg\n",
    "\n",
    "\n",
    "# plot the scatter plot of capomulin weight vs tumor volume \n",
    "plt.scatter(capomulin_avg.iloc[:,1],capomulin_avg.iloc[:,3])\n",
    "plt.xlabel('Mouse avg weight in Capomulin regimen')\n",
    "plt.ylabel('Avg tumor volume(mm3)')\n",
    "plt.title('Avg tumor vol(mmm3) vs mouse weight (g)')"
   ]
  },
  {
   "cell_type": "code",
   "execution_count": 66,
   "id": "19df5272",
   "metadata": {},
   "outputs": [
    {
     "name": "stdout",
     "output_type": "stream",
     "text": [
      "The correlation between both factors is 0.84\n"
     ]
    }
   ],
   "source": [
    "# calculate correlation btwm weight and tumor volume \n",
    "weight = capomulin_avg.iloc[:,1]\n",
    "tumor_volume = capomulin_avg.iloc[:,3]\n",
    "correlation = st.pearsonr(weight,tumor_volume)\n",
    "print(f\"The correlation between both factors is {round(correlation[0],2)}\")\n",
    "plt.show()\n"
   ]
  },
  {
   "cell_type": "code",
   "execution_count": 72,
   "id": "baeaae8e",
   "metadata": {},
   "outputs": [
    {
     "name": "stdout",
     "output_type": "stream",
     "text": [
      "The r-squared is: 0.7088568047708723\n"
     ]
    },
    {
     "data": {
      "image/png": "[encoded data removed]",
      "text/plain": [
       "<Figure size 432x288 with 1 Axes>"
      ]
     },
     "metadata": {
      "needs_background": "light"
     },
     "output_type": "display_data"
    }
   ],
   "source": [
    "weight = capomulin_avg.iloc[:,1]\n",
    "tumor_volume = capomulin_avg.iloc[:,3]\n",
    "#tumor_volume = capomulin_avg.iloc[:,3]\n",
    "(slope, intercept, rvalue, pvalue, std_err) = stats.linregress(weight, tumor_volume)\n",
    "regress_values = weight*slope + intercept\n",
    "line_eq = \"y = \" + str(round(slope,2)) + \"x + \" + str(round(intercept,2))\n",
    "plt.scatter(weight,tumor_volume)\n",
    "plt.plot(weight,regress_values,\"r-\")\n",
    "plt.annotate(line_eq,(0,50),fontsize=15,color=\"red\")\n",
    "plt.xticks(weight, rotation=90)\n",
    "plt.xlabel('Mouse avg weight in Capomulin regimen')\n",
    "plt.ylabel('Avg tumor volume(mm3)')\n",
    "plt.title('Avg tumor vol(mmm3) vs mouse weight (g)')\n",
    "print(f\"The r-squared is: {rvalue**2}\")"
   ]
  }
 ],
 "metadata": {
  "interpreter": {
   "hash": "661f11969867fd121d05aec0c89289b079589ad8eca5cd5ec765e8591bd26e44"
  },
  "kernelspec": {
   "display_name": "Python 3 (ipykernel)",
   "language": "python",
   "name": "python3"
  },
  "language_info": {
   "codemirror_mode": {
    "name": "ipython",
    "version": 3
   },
   "file_extension": ".py",
   "mimetype": "text/x-python",
   "name": "python",
   "nbconvert_exporter": "python",
   "pygments_lexer": "ipython3",
   "version": "3.7.13"
  }
 },
 "nbformat": 4,
 "nbformat_minor": 5
}
